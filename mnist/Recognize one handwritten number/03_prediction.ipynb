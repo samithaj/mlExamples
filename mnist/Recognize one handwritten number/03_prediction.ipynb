{
 "cells": [
  {
   "cell_type": "markdown",
   "metadata": {},
   "source": [
    "### Tensorflow example for MNIST\n",
    "The goal of this demo is to correctly classify the handwritten digits 0-9.\n",
    "\n",
    "This notebook predicts a single custom created digit"
   ]
  },
  {
   "cell_type": "code",
   "execution_count": 1,
   "metadata": {
    "collapsed": true
   },
   "outputs": [],
   "source": [
    "# These are all the modules we'll be using later. Make sure you can import them\n",
    "# before proceeding further.\n",
    "import cPickle as pickle\n",
    "import numpy as np\n",
    "import os\n",
    "import tensorflow as tf\n",
    "import matplotlib.pyplot as plt\n",
    "import math\n",
    "import cv2"
   ]
  },
  {
   "cell_type": "markdown",
   "metadata": {},
   "source": [
    "First reload the data we generated in `1_notmist.ipynb`."
   ]
  },
  {
   "cell_type": "code",
   "execution_count": 2,
   "metadata": {
    "collapsed": true
   },
   "outputs": [],
   "source": [
    "basket = \"/mnt/basket/processingData/volatile/\"\n",
    "pickle_file = os.path.join(basket,'RecognizeDigits_separeated__training_results.pickle')\n",
    "\n",
    "with open(pickle_file, 'rb') as f:\n",
    "  read = pickle.load(f)\n",
    "  train_weights_linear = read['weights_linear']\n",
    "  train_biases_linear = read['biases_linear']\n",
    "  del read  # hint to help gc free up memory"
   ]
  },
  {
   "cell_type": "markdown",
   "metadata": {},
   "source": [
    "##### Define the graph"
   ]
  },
  {
   "cell_type": "code",
   "execution_count": 3,
   "metadata": {
    "collapsed": false
   },
   "outputs": [],
   "source": [
    "graph = tf.Graph()\n",
    "\n",
    "with graph.as_default():\n",
    "\n",
    "  # Variables:\n",
    "  ##A placeholder for our image data: None stands for an unspecified number of images 784 = 28*28 pixel\n",
    "  x = tf.placeholder(\"float\", [None, 784])\n",
    "\n",
    "  ## linear layer\n",
    "  weights_linear = tf.constant(train_weights_linear)\n",
    "  biases_linear = tf.constant(train_biases_linear)\n",
    "    \n",
    "  # linear layer\n",
    "  test_logits = tf.matmul(x, weights_linear) + biases_linear\n",
    " \n",
    "  # Predictions for the training, validation, and test data.\n",
    "  test_prediction = tf.nn.softmax(test_logits)"
   ]
  },
  {
   "cell_type": "markdown",
   "metadata": {},
   "source": [
    "#### Bring custom image in the right shape"
   ]
  },
  {
   "cell_type": "code",
   "execution_count": 4,
   "metadata": {
    "collapsed": false
   },
   "outputs": [],
   "source": [
    "# create an array where we can store our 1 pictures\n",
    "images = np.zeros((1,784))\n",
    "\n",
    "# load normalized image\n",
    "input_file = \"/tmp/singleFileInputImage.png\"\n",
    "gray = cv2.imread(input_file, cv2.CV_LOAD_IMAGE_GRAYSCALE)\n",
    "flatten = gray.flatten()\n",
    "images[0] = flatten"
   ]
  },
  {
   "cell_type": "markdown",
   "metadata": {},
   "source": [
    "#### Run the graph"
   ]
  },
  {
   "cell_type": "code",
   "execution_count": 5,
   "metadata": {
    "collapsed": false
   },
   "outputs": [
    {
     "name": "stdout",
     "output_type": "stream",
     "text": [
      "Predicted digit:  [3]\n"
     ]
    }
   ],
   "source": [
    "with tf.Session(graph=graph) as sess:\n",
    "  tf.initialize_all_variables().run()\n",
    "  # the prediction will be an array with one value, which show the predicted number\n",
    "  prediction = tf.argmax(test_prediction,1)\n",
    "  #print \"%s\" % (prediction)\n",
    "  print \"Predicted digit: \" , sess.run(prediction, feed_dict={x: images})"
   ]
  },
  {
   "cell_type": "code",
   "execution_count": null,
   "metadata": {
    "collapsed": true
   },
   "outputs": [],
   "source": []
  }
 ],
 "metadata": {
  "kernelspec": {
   "display_name": "Python 2",
   "language": "python",
   "name": "python2"
  },
  "language_info": {
   "codemirror_mode": {
    "name": "ipython",
    "version": 2
   },
   "file_extension": ".py",
   "mimetype": "text/x-python",
   "name": "python",
   "nbconvert_exporter": "python",
   "pygments_lexer": "ipython2",
   "version": "2.7.11"
  }
 },
 "nbformat": 4,
 "nbformat_minor": 0
}
