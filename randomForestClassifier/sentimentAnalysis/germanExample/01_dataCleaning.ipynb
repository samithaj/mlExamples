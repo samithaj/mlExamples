{
 "cells": [
  {
   "cell_type": "markdown",
   "metadata": {},
   "source": [
    "# Sentiment analysis with Random forest \n",
    "<p> Part 1 / 4 , download and clean reviews from the internet </p>"
   ]
  },
  {
   "cell_type": "code",
   "execution_count": 1,
   "metadata": {
    "collapsed": true
   },
   "outputs": [],
   "source": [
    "%matplotlib inline\n",
    "\n",
    "# extraction from html document\n",
    "import pandas as pd\n",
    "from bs4 import BeautifulSoup\n",
    "import requests\n",
    "import re\n",
    "import nltk\n",
    "from nltk.corpus import stopwords # Import the stop word list\n",
    "import json\n",
    "import codecs\n",
    "import random\n",
    "import numpy as np\n",
    "import matplotlib.pyplot as plt"
   ]
  },
  {
   "cell_type": "markdown",
   "metadata": {},
   "source": [
    "### Hyperparams"
   ]
  },
  {
   "cell_type": "code",
   "execution_count": 2,
   "metadata": {
    "collapsed": true
   },
   "outputs": [],
   "source": [
    "url_telekom='http://www.check24.de/dsl/kundenbewertung/telekom/'\n",
    "url_vodafone='http://www.check24.de/dsl/kundenbewertung/vodafone/'\n",
    "stopword_vocabular = \"german\"\n",
    "attr1_stars = \"stars\"\n",
    "attr2_listPage=\"list_page\"\n",
    "\n",
    "serialize_datafile_telekom = \"/mnt/basket/processingData/volatile/clean_telko_reviews_telekom.json\"\n",
    "serialize_datafile_vodafone = \"/mnt/basket/processingData/volatile/clean_telko_reviews_vodafone.json\"\n",
    "serialize_datafile_combined = \"/mnt/basket/processingData/volatile/clean_telko_reviews_combined.json\"\n",
    "\n",
    "serialize_train_datafile = \"/mnt/basket/processingData/volatile/telco_train_dataset.json\"\n",
    "serialize_test_datafile = \"/mnt/basket/processingData/volatile/telco_test_dataset.json\"\n",
    "serialize_validate_datafile = \"/mnt/basket/processingData/volatile/telco_validate_dataset.json\""
   ]
  },
  {
   "cell_type": "markdown",
   "metadata": {},
   "source": [
    "### web crawler"
   ]
  },
  {
   "cell_type": "code",
   "execution_count": 3,
   "metadata": {
    "collapsed": false
   },
   "outputs": [],
   "source": [
    "# get the max page result count for stars 1-5\n",
    "def get_max_page_counts(url):\n",
    "    max_page_count = []\n",
    "    for i in xrange(1,6): #1-5 Stars\n",
    "        webpage = requests.get(url +'?'+attr1_stars+'='+str(i))\n",
    "        soup = BeautifulSoup(webpage.content,'html.parser')\n",
    "        _ = soup.find_all(\"div\", {\"class\": \"c24-evaluation-pager\"})[0].find_all(\"a\")\n",
    "        _page_count = []\n",
    "        for item in _:\n",
    "           try:\n",
    "            _page_count.append(int(item.text))\n",
    "           except:\n",
    "            pass\n",
    "        max_page_count.append(str(_page_count.pop()))\n",
    "    return max_page_count\n",
    "\n",
    "#print get_max_page_counts()"
   ]
  },
  {
   "cell_type": "code",
   "execution_count": 4,
   "metadata": {
    "collapsed": false
   },
   "outputs": [],
   "source": [
    "# crawls a webpage and retruns its content\n",
    "def get_web_webpage_raw_data(url, star, page):\n",
    "    select_stars = 3\n",
    "    select_page = 1\n",
    "    return requests.get(url+'?'+attr1_stars+'='+str(star)+ '&'+attr2_listPage+'='+str(page))"
   ]
  },
  {
   "cell_type": "markdown",
   "metadata": {},
   "source": [
    "### Data cleaning and text preprocessing for single customer review"
   ]
  },
  {
   "cell_type": "code",
   "execution_count": 5,
   "metadata": {
    "collapsed": false
   },
   "outputs": [],
   "source": [
    "# Convert a raw review to a string of words\n",
    "def preprocess_review( raw_review ):\n",
    "    # 1. Convert to lower case\n",
    "    lowerCaseWords = raw_review.lower()\n",
    "    # 2. Replace Umlaute ( https://de.wikipedia.org/wiki/Hilfe:Sonderzeichenreferenz )\n",
    "    umlaute = re.sub(\"\\xfc\", \"ue\", lowerCaseWords)\n",
    "    umlaute = re.sub(\"\\xe4\", \"ae\", umlaute)\n",
    "    umlaute = re.sub(\"\\xDF\", \"ss\", umlaute)\n",
    "    umlaute = re.sub(\"\\xF6\", \"oe\", umlaute)\n",
    "    # 3. Remove non-letters\n",
    "    letters_only = re.sub(\"[^a-z]\", \" \", umlaute)\n",
    "    #\n",
    "    # 4. Split into individual words\n",
    "    words = letters_only.split()\n",
    "    #\n",
    "    # 5. searching a set is faster than searching a list, so convert the stop words to a set\n",
    "    stops = set(stopwords.words(stopword_vocabular))\n",
    "    #\n",
    "    # 6. Remove stop words\n",
    "    meaningful_words = [w for w in words if not w in stops]\n",
    "    #\n",
    "    # 7. Join the words back into one string separated by space\n",
    "    return str(( \" \".join( meaningful_words ))) # str() converts from UNICODE to ASCII"
   ]
  },
  {
   "cell_type": "markdown",
   "metadata": {},
   "source": [
    "### web scraping\n",
    "<p> > 2.000 data examples from http://www.check24.de/dsl/kundenbewertung/telekom/ and save in list. Use the format ([id, sentiment, review]) </p>"
   ]
  },
  {
   "cell_type": "code",
   "execution_count": 6,
   "metadata": {
    "collapsed": false
   },
   "outputs": [],
   "source": [
    "def scraple_webpages(url):\n",
    "    i = 0\n",
    "    all_review_data = []\n",
    "    # contains the max result pages for sentiment(stars) 1-5\n",
    "    max_page_count = get_max_page_counts(url)\n",
    "    # iterate over all sentiment(star) categories\n",
    "    for sentiment_selection in xrange(1,6): \n",
    "        # iterate over all result pages for a given sentiment(star) selection\n",
    "        for page_count in range (1,int(max_page_count[sentiment_selection-1])+1):\n",
    "            print str(page_count), \n",
    "            # contains the webpage raw content\n",
    "            webpage = get_web_webpage_raw_data(url,sentiment_selection,page_count)\n",
    "            soup = BeautifulSoup(webpage.content,'html.parser')\n",
    "            full_review_data = soup.find_all(\"div\", {\"class\": \"c24-evaluation-list\"})\n",
    "            # create a data array containing the reviews\n",
    "            for item in full_review_data:\n",
    "                raw_review =  item.contents[5].text\n",
    "                # sentiments form 1-3 are negative and sentiments form 4-5 are possitive\n",
    "                if (sentiment_selection in xrange (4,6)):\n",
    "                    binary_sentiment = 1\n",
    "                else:\n",
    "                    binary_sentiment = 0\n",
    "                all_review_data.append([i,binary_sentiment,preprocess_review(raw_review)])\n",
    "                i = i + 1\n",
    "        print \"  stars: \" + \" \" + str(sentiment_selection)\n",
    "    return all_review_data        \n",
    "\n",
    "#_ = scraple_webpages(url_vodafone)\n",
    "#for i in _:\n",
    "#    print i"
   ]
  },
  {
   "cell_type": "markdown",
   "metadata": {},
   "source": [
    "#### Execute web scraping"
   ]
  },
  {
   "cell_type": "code",
   "execution_count": 7,
   "metadata": {
    "collapsed": false
   },
   "outputs": [
    {
     "name": "stdout",
     "output_type": "stream",
     "text": [
      "1 2 3 4 5 6 7 8 9 10 11 12 13 14 15 16 17 18 19 20 21 22 23 24 25 26 27 28 29 30 31 32   stars:  1\n",
      "1 2 3 4 5 6 7 8 9 10   stars:  2\n",
      "1 2 3 4 5 6 7 8 9 10 11 12 13 14 15 16 17   stars:  3\n",
      "1 2 3 4 5 6 7 8 9 10 11 12 13 14 15 16 17 18 19 20 21 22 23 24 25 26 27 28 29 30 31 32   stars:  4\n",
      "1 2 3 4 5 6 7 8 9 10 11 12 13 14 15 16 17 18 19 20 21 22 23 24 25 26 27 28 29 30 31 32 33 34 35 36 37 38 39 40 41 42 43 44 45 46   stars:  5\n",
      "1 2 3 4 5 6 7 8 9 10 11 12 13 14 15 16 17 18 19 20 21 22 23 24 25   stars:  1\n",
      "1 2 3 4 5 6 7 8   stars:  2\n",
      "1 2 3 4 5 6 7 8 9 10 11 12 13 14 15 16   stars:  3\n",
      "1 2 3 4 5 6 7 8 9 10 11 12 13 14 15 16 17 18 19 20 21 22 23 24 25 26 27 28 29 30   stars:  4\n",
      "1 2 3 4 5 6 7 8 9 10 11 12 13 14 15 16 17 18 19 20 21 22 23 24 25 26 27 28 29 30 31 32 33 34 35   stars:  5\n"
     ]
    }
   ],
   "source": [
    "# Telekom\n",
    "telekom_data = scraple_webpages(url_telekom)\n",
    "# Vodafone\n",
    "vodafone_data = scraple_webpages(url_vodafone)"
   ]
  },
  {
   "cell_type": "markdown",
   "metadata": {},
   "source": [
    "## Create data sets"
   ]
  },
  {
   "cell_type": "code",
   "execution_count": 8,
   "metadata": {
    "collapsed": false
   },
   "outputs": [],
   "source": [
    "# takes a multidim array [index,sentiment,review] and overwrite its exisitng index saved in array[0] in sequential order\n",
    "def helper_reIndex_array(combined_array):\n",
    "    i = 0\n",
    "    for item in combined_array:\n",
    "        item[0] = i\n",
    "        i = i + 1"
   ]
  },
  {
   "cell_type": "markdown",
   "metadata": {},
   "source": [
    "#### Create combined Vodafone and Telekom review dataset\n",
    "<p> Create one dataset containing reviews for vodafone and telekom. </p>\n",
    "<p> It is needed to re-index after combining the two datasets, because each dataset (telekom and vodafone) start with index=0. Telekom[0,telekomMAX] and Vodafone[0,vodafoneMAX]. If no re-index would be used, the combined dataset would have two sequential index, and we want only one sequential index over the combined dataset </p>\n",
    "<p> Its needed to shuffle the dataset, before we slice it into \"test-,train-,validation- dataset\" </p> "
   ]
  },
  {
   "cell_type": "code",
   "execution_count": 9,
   "metadata": {
    "collapsed": false
   },
   "outputs": [
    {
     "name": "stdout",
     "output_type": "stream",
     "text": [
      "combined telco dataset size:  4937\n"
     ]
    }
   ],
   "source": [
    "# Combined Vodafone and Telekom review datasets\n",
    "combined_telco = []\n",
    "combined_telco.extend(telekom_data)\n",
    "combined_telco.extend(vodafone_data)\n",
    "# re-index from 0 ... max\n",
    "helper_reIndex_array(combined_telco)\n",
    "# shuffle dataset\n",
    "random.shuffle(combined_telco) \n",
    "\n",
    "print \"combined telco dataset size: \", len(combined_telco)"
   ]
  },
  {
   "cell_type": "markdown",
   "metadata": {},
   "source": [
    "#### slice dataset in train, test and validation"
   ]
  },
  {
   "cell_type": "code",
   "execution_count": 10,
   "metadata": {
    "collapsed": false
   },
   "outputs": [
    {
     "name": "stdout",
     "output_type": "stream",
     "text": [
      "3455  = [ 396  :  2629 ] = [ 396  :  2629 ]\n",
      "987  = [ 4754  :  1326 ] = [ 4754  :  1326 ]\n",
      "493  = [ 1359  :  877 ] = [ 1359  :  877 ]\n"
     ]
    }
   ],
   "source": [
    "combined_telco_dataset_length = len(combined_telco)\n",
    "train_datset_size_percent = 0.7 # 70% of the data will be used for training\n",
    "test_dataset_size_percent = 0.2\n",
    "validation_dataset_size_percent = 0.1\n",
    "#slice [start:stop]\n",
    "training_dataset = combined_telco[0:int(combined_telco_dataset_length*train_datset_size_percent)]\n",
    "_ = len(training_dataset)\n",
    "testing_dataset = combined_telco[ _ : int( _ + (combined_telco_dataset_length*test_dataset_size_percent))]\n",
    "_ = len (training_dataset) + len(testing_dataset)\n",
    "validation_dataset = combined_telco[ _ : int( _ + (combined_telco_dataset_length*validation_dataset_size_percent))]\n",
    "\n",
    "# For validation purpose only (quick check)\n",
    "print len(training_dataset),\" = [\",training_dataset[0][0]  ,\" : \",training_dataset[-1][0] ,\"] = [\",combined_telco[0][0],\" : \",combined_telco[len(training_dataset)-1][0],\"]\"\n",
    "print len(testing_dataset),\" = [\",testing_dataset[0][0]   ,\" : \",testing_dataset[-1][0] ,\"] = [\",combined_telco[len(training_dataset)][0],\" : \",combined_telco[(len(testing_dataset) + len(training_dataset) -1)][0],\"]\"\n",
    "print len(validation_dataset),\" = [\",validation_dataset[0][0],\" : \",validation_dataset[-1][0] ,\"] = [\",combined_telco[len(training_dataset) + len(testing_dataset) ][0],\" : \",combined_telco[(len(testing_dataset) + len(training_dataset) + len(validation_dataset) -1)][0],\"]\" "
   ]
  },
  {
   "cell_type": "markdown",
   "metadata": {},
   "source": [
    "### Serialize cleaned data"
   ]
  },
  {
   "cell_type": "code",
   "execution_count": 11,
   "metadata": {
    "collapsed": false
   },
   "outputs": [
    {
     "name": "stdout",
     "output_type": "stream",
     "text": [
      "Data saved to disk\n"
     ]
    }
   ],
   "source": [
    "# Telekom all\n",
    "with codecs.open(serialize_datafile_telekom,  'w', encoding='utf-8') as f:\n",
    "\tjson.dump(telekom_data, f,  indent=3)\n",
    "\n",
    "# Vodafone all\n",
    "with codecs.open(serialize_datafile_vodafone,  'w', encoding='utf-8') as f:\n",
    "\tjson.dump(vodafone_data, f,  indent=3)\n",
    "    \n",
    "# Combined (Telekom,Vodafone)\n",
    "with codecs.open(serialize_datafile_combined,  'w', encoding='utf-8') as f:\n",
    "\tjson.dump(combined_telco, f,  indent=3)\n",
    "    \n",
    "# Train dataset\n",
    "with codecs.open(serialize_train_datafile,  'w', encoding='utf-8') as f:\n",
    "\tjson.dump(training_dataset, f,  indent=3)\n",
    "    \n",
    "# Test dataset\n",
    "with codecs.open(serialize_test_datafile,  'w', encoding='utf-8') as f:\n",
    "\tjson.dump(testing_dataset, f,  indent=3)\n",
    "\n",
    "# Validation dataset\n",
    "with codecs.open(serialize_validate_datafile,  'w', encoding='utf-8') as f:\n",
    "\tjson.dump(validation_dataset, f,  indent=3)\n",
    "\n",
    "    \n",
    "print \"Data saved to disk\""
   ]
  },
  {
   "cell_type": "markdown",
   "metadata": {},
   "source": [
    "### Show distribution of data"
   ]
  },
  {
   "cell_type": "code",
   "execution_count": 12,
   "metadata": {
    "collapsed": false
   },
   "outputs": [
    {
     "data": {
      "image/png": "[encoded data removed]",
      "text/plain": [
       "<matplotlib.figure.Figure at 0x7f4f4ece5490>"
      ]
     },
     "metadata": {},
     "output_type": "display_data"
    }
   ],
   "source": [
    "# to see how many positive and negative examples are there ( should be close numbers )\n",
    "# plot.bar(...)\n",
    "i = 0\n",
    "results = [0,0]\n",
    "\n",
    "# split in positive reviews and negaive reviews\n",
    "for item in training_dataset:\n",
    "    if(item[1] ==  1 ):\n",
    "        results[0] = results[0]+1 # positive review\n",
    "    else:\n",
    "        results[1] = results[1]+1 # negative review\n",
    "    #print item[1] , \"  --> \" , results[i]\n",
    "    i = i + 1\n",
    "\n",
    "# plot\n",
    "_classes = ['positive','negative']\n",
    "y_pos = np.arange(len(_classes))\n",
    "plt.bar(y_pos, results, align='center', alpha=0.5)\n",
    "plt.xticks(y_pos, _classes)\n",
    "plt.ylabel('Occurance')\n",
    "plt.xlabel('Review')\n",
    "plt.title(' Review positive/negative')\n",
    "plt.show()"
   ]
  }
 ],
 "metadata": {
  "kernelspec": {
   "display_name": "Python 2",
   "language": "python",
   "name": "python2"
  },
  "language_info": {
   "codemirror_mode": {
    "name": "ipython",
    "version": 2
   },
   "file_extension": ".py",
   "mimetype": "text/x-python",
   "name": "python",
   "nbconvert_exporter": "python",
   "pygments_lexer": "ipython2",
   "version": "2.7.11"
  }
 },
 "nbformat": 4,
 "nbformat_minor": 0
}
