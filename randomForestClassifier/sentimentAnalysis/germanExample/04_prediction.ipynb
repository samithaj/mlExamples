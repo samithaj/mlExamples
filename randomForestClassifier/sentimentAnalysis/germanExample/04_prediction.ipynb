{
 "cells": [
  {
   "cell_type": "markdown",
   "metadata": {},
   "source": [
    "# Sentiment analysis with Random forest \n",
    "<p> Part 4 / 4 predict new reviews </p>"
   ]
  },
  {
   "cell_type": "code",
   "execution_count": 4,
   "metadata": {
    "collapsed": false
   },
   "outputs": [],
   "source": [
    "%matplotlib inline\n",
    "\n",
    "# Import the pandas package\n",
    "import pandas as pd\n",
    "import nltk\n",
    "from sklearn.feature_extraction.text import CountVectorizer\n",
    "import numpy as np\n",
    "from sklearn.ensemble import RandomForestClassifier\n",
    "import json\n",
    "import codecs\n",
    "from sklearn.externals import joblib\n",
    "import matplotlib.pyplot as plt"
   ]
  },
  {
   "cell_type": "markdown",
   "metadata": {},
   "source": [
    "## Hyperparams "
   ]
  },
  {
   "cell_type": "code",
   "execution_count": 5,
   "metadata": {
    "collapsed": true
   },
   "outputs": [],
   "source": [
    "train_datafile = \"/mnt/basket/processingData/volatile/telco_train_dataset.json\"\n",
    "test_datafile = \"/mnt/basket/processingData/volatile/telco_test_dataset.json\"\n",
    "\n",
    "web_scrapling_raw_data = \"/mnt/basket/processingData/volatile/clean_telko_reviews.json\"\n",
    "\n",
    "word2vec_feature_list = \"/mnt/basket/processingData/volatile/telco_data_features.npy\"\n",
    "word2vec_vectorizer = \"/mnt/basket/processingData/volatile/telco_data_vectorizer.joblib\"\n",
    "word2vec_vocabulary = \"/mnt/basket/processingData/volatile/telco_data_vocab.json\"\n",
    "\n",
    "forest_classifier = \"/mnt/basket/processingData/volatile/telco_random_forest_classifier.joblib\""
   ]
  },
  {
   "cell_type": "markdown",
   "metadata": {},
   "source": [
    "## Load data"
   ]
  },
  {
   "cell_type": "code",
   "execution_count": 6,
   "metadata": {
    "collapsed": true
   },
   "outputs": [],
   "source": [
    "# Restore random_forest_classifier\n",
    "forest = joblib.load(forest_classifier)\n",
    "\n",
    "# Restore the unlabled test dataset\n",
    "with codecs.open(test_datafile, 'r', encoding='utf-8') as f:\n",
    "    test_dataset = json.load(f)\n",
    "\n",
    "# Restore vocabulary\n",
    "with codecs.open(word2vec_vocabulary, 'r', encoding='utf-8') as f:\n",
    "    vocab = json.load(f)"
   ]
  },
  {
   "cell_type": "code",
   "execution_count": 7,
   "metadata": {
    "collapsed": true
   },
   "outputs": [],
   "source": [
    "\"\"\"\n",
    "  Restore vectorizer, wird eigentlich nicht benoetigt. \n",
    "  Ein neuer Vectorizer mit dem zuvor gespeicherten (selben) Vokabular reicht.\n",
    "  vectorizer = joblib.load(word2vec_vectorizer)\n",
    "\"\"\"\n",
    "\n",
    "# Restore vectorizer\n",
    "vectorizer = CountVectorizer(analyzer = \"word\",   \\\n",
    "                             vocabulary = vocab,   \\\n",
    "                             tokenizer = None,    \\\n",
    "                             preprocessor = None, \\\n",
    "                             stop_words = None,   \\\n",
    "                             max_features = 5000)"
   ]
  },
  {
   "cell_type": "markdown",
   "metadata": {},
   "source": [
    "## Prediction for test dataset"
   ]
  },
  {
   "cell_type": "markdown",
   "metadata": {},
   "source": [
    "#### Clean and extract reviews\n",
    "</p> The reviews for the test dataset was allready cleaned.</p>"
   ]
  },
  {
   "cell_type": "code",
   "execution_count": 8,
   "metadata": {
    "collapsed": true
   },
   "outputs": [],
   "source": [
    "# extract the second column which contains the reviews\n",
    "list_of_reviews = [row[2] for row in test_dataset]"
   ]
  },
  {
   "cell_type": "markdown",
   "metadata": {},
   "source": [
    "#### Create vector representation\n",
    "<p>Extract token counts out of raw text documents using the vocabulary fitted with fit or the one provided to the constructor. </p>\n",
    "\n",
    "<p>  The variable \"vectorizer\" in the code above, used for initialisation the \"vocabulary\" created by the \"Bag of words and word2vec\" step in inotebook \"02_bag_of_words\". Now the individual words in the test dataset (different from the train dataset which was used to create the word2vec representations) are mapped to vector representations created in previous steps from the train dataset. </p>\n"
   ]
  },
  {
   "cell_type": "code",
   "execution_count": 9,
   "metadata": {
    "collapsed": false
   },
   "outputs": [
    {
     "name": "stdout",
     "output_type": "stream",
     "text": [
      "example test_dataset vector:  [0 0 0 ..., 0 0 0]\n"
     ]
    }
   ],
   "source": [
    "# Create bag of words\n",
    "test_data_features = vectorizer.transform(list_of_reviews)\n",
    "# convert to a numpy array\n",
    "test_data_features = test_data_features.toarray()\n",
    "\n",
    "print \"example test_dataset vector: \" , test_data_features[0]"
   ]
  },
  {
   "cell_type": "markdown",
   "metadata": {},
   "source": [
    "#### Make sentiment label predictions"
   ]
  },
  {
   "cell_type": "code",
   "execution_count": 10,
   "metadata": {
    "collapsed": true
   },
   "outputs": [],
   "source": [
    "# Use the random forest to make sentiment label predictions\n",
    "computed_predictions = forest.predict(test_data_features)"
   ]
  },
  {
   "cell_type": "markdown",
   "metadata": {},
   "source": [
    "#### Compare computed predictions against real sentiment"
   ]
  },
  {
   "cell_type": "code",
   "execution_count": 11,
   "metadata": {
    "collapsed": false
   },
   "outputs": [
    {
     "data": {
      "image/png": "[encoded data removed]",
      "text/plain": [
       "<matplotlib.figure.Figure at 0x7f403c30bc50>"
      ]
     },
     "metadata": {},
     "output_type": "display_data"
    }
   ],
   "source": [
    "i = 0\n",
    "results = [0,0]\n",
    "\n",
    "# split in correct prediction and wrong predictions\n",
    "for item in test_dataset:\n",
    "    if(item[1] ==  computed_predictions[i] ):\n",
    "        results[0] = results[0]+1 # correct prediction\n",
    "    else:\n",
    "        results[1] = results[1]+1 # wrong prediction\n",
    "    #print item[1] , \" : \" , computed_predictions[i] , \"  --> \" , results[i]\n",
    "    i = i + 1\n",
    "\n",
    "# plot\n",
    "_classes = ['correct','wrong']\n",
    "y_pos = np.arange(len(_classes))\n",
    "plt.bar(y_pos, results, align='center', alpha=0.5)\n",
    "plt.xticks(y_pos, _classes)\n",
    "plt.ylabel('Occurance')\n",
    "plt.xlabel('Classes')\n",
    "plt.title(' Test accuracy')\n",
    "plt.show()"
   ]
  },
  {
   "cell_type": "markdown",
   "metadata": {},
   "source": [
    "## Prediction for new entered reviews"
   ]
  },
  {
   "cell_type": "markdown",
   "metadata": {},
   "source": [
    "#### Clean and extract reviews\n",
    "<p> Clean the manual review <p>"
   ]
  },
  {
   "cell_type": "code",
   "execution_count": 12,
   "metadata": {
    "collapsed": true
   },
   "outputs": [],
   "source": [
    "# Remove code by re-using identical 02_bag_of_words function\n",
    "from bs4 import BeautifulSoup\n",
    "import re\n",
    "from nltk.corpus import stopwords # Import the stop word list\n",
    "\n",
    "def preprocess_review( raw_review ):\n",
    "    # 1. Convert to lower case\n",
    "    lowerCaseWords = raw_review.lower()\n",
    "    # 2. Replace Umlaute ( https://de.wikipedia.org/wiki/Hilfe:Sonderzeichenreferenz )\n",
    "    umlaute = re.sub(\"\\xfc\", \"ue\", lowerCaseWords)\n",
    "    umlaute = re.sub(\"\\xe4\", \"ae\", umlaute)\n",
    "    umlaute = re.sub(\"\\xDF\", \"ss\", umlaute)\n",
    "    umlaute = re.sub(\"\\xF6\", \"oe\", umlaute)\n",
    "    # 3. Remove non-letters\n",
    "    letters_only = re.sub(\"[^a-z]\", \" \", umlaute)\n",
    "    #\n",
    "    # 4. Split into individual words\n",
    "    words = letters_only.split()\n",
    "    #\n",
    "    # 5. searching a set is faster than searching a list, so convert the stop words to a set\n",
    "    stops = set(stopwords.words(\"german\"))\n",
    "    #\n",
    "    # 6. Remove stop words\n",
    "    meaningful_words = [w for w in words if not w in stops]\n",
    "    #\n",
    "    # 7. Join the words back into one string separated by space\n",
    "    return str(( \" \".join( meaningful_words ))) # str() converts from UNICODE to ASCII"
   ]
  },
  {
   "cell_type": "code",
   "execution_count": 13,
   "metadata": {
    "collapsed": false
   },
   "outputs": [
    {
     "name": "stdout",
     "output_type": "stream",
     "text": [
      "Cleaning and parsing the test set movie reviews...\n",
      "\n"
     ]
    }
   ],
   "source": [
    "# Manual entered review\n",
    "#entered_review = \"Die Verbindng ist klasse und ich bin sehr zufrieden.\"\n",
    "#entered_review = \"Der Kundenservice lässt zu wünschen übrig\"\n",
    "#entered_review = \"Die Verbindung ist schnell\"\n",
    "entered_review = \"Die Verbindung ist zu langsam\"\n",
    "\n",
    "# Create an empty list and append the clean reviews one by one\n",
    "clean_test_reviews = []\n",
    "\n",
    "print \"Cleaning and parsing the test set movie reviews...\\n\"\n",
    "clean_review = preprocess_review( entered_review )\n",
    "clean_test_reviews.append( clean_review )\n"
   ]
  },
  {
   "cell_type": "markdown",
   "metadata": {},
   "source": [
    "#### Create vector representation"
   ]
  },
  {
   "cell_type": "code",
   "execution_count": 14,
   "metadata": {
    "collapsed": false
   },
   "outputs": [
    {
     "name": "stdout",
     "output_type": "stream",
     "text": [
      "example test_dataset vector:  [0 0 0 ..., 0 0 0]\n"
     ]
    }
   ],
   "source": [
    "# Create bag of words\n",
    "test_data_features = vectorizer.transform(clean_test_reviews)\n",
    "# convert to a numpy array\n",
    "test_data_features = test_data_features.toarray()\n",
    "\n",
    "print \"example test_dataset vector: \" , test_data_features[0]"
   ]
  },
  {
   "cell_type": "markdown",
   "metadata": {},
   "source": [
    "#### Make sentiment label predictions"
   ]
  },
  {
   "cell_type": "code",
   "execution_count": 15,
   "metadata": {
    "collapsed": true
   },
   "outputs": [],
   "source": [
    "# Use the random forest to make sentiment label predictions\n",
    "computed_predictions = forest.predict(test_data_features)"
   ]
  },
  {
   "cell_type": "markdown",
   "metadata": {},
   "source": [
    "#### Compare computed predictions against real sentiment"
   ]
  },
  {
   "cell_type": "code",
   "execution_count": 16,
   "metadata": {
    "collapsed": false
   },
   "outputs": [
    {
     "name": "stdout",
     "output_type": "stream",
     "text": [
      "[0] nagative : Die Verbindung ist zu langsam\n"
     ]
    }
   ],
   "source": [
    "if computed_predictions[0] == 0 :\n",
    "    print \"[%i] %s : %s\" % (computed_predictions[0] , \"nagative\" , entered_review )\n",
    "else :\n",
    "    print \"[%i] %s : %s\" % (computed_predictions[0] , \"possitive\" , entered_review) "
   ]
  }
 ],
 "metadata": {
  "kernelspec": {
   "display_name": "Python 2",
   "language": "python",
   "name": "python2"
  },
  "language_info": {
   "codemirror_mode": {
    "name": "ipython",
    "version": 2
   },
   "file_extension": ".py",
   "mimetype": "text/x-python",
   "name": "python",
   "nbconvert_exporter": "python",
   "pygments_lexer": "ipython2",
   "version": "2.7.11"
  }
 },
 "nbformat": 4,
 "nbformat_minor": 0
}
