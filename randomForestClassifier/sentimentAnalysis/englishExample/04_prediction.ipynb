{
 "cells": [
  {
   "cell_type": "markdown",
   "metadata": {},
   "source": [
    "# Sentiment analysis with Random forest \n",
    "<p> Part 4 / 4 predict new reviews </p>"
   ]
  },
  {
   "cell_type": "code",
   "execution_count": 7,
   "metadata": {
    "collapsed": false
   },
   "outputs": [],
   "source": [
    "%matplotlib inline\n",
    "\n",
    "# Import the pandas package\n",
    "import pandas as pd\n",
    "import nltk\n",
    "from sklearn.feature_extraction.text import CountVectorizer\n",
    "import numpy as np\n",
    "from sklearn.ensemble import RandomForestClassifier\n",
    "import json\n",
    "import codecs\n",
    "from sklearn.externals import joblib\n",
    "import matplotlib.pyplot as plt\n",
    "from bs4 import BeautifulSoup\n",
    "import re\n",
    "from nltk.corpus import stopwords # Import the stop word list"
   ]
  },
  {
   "cell_type": "markdown",
   "metadata": {},
   "source": [
    "## Hyperparams "
   ]
  },
  {
   "cell_type": "code",
   "execution_count": 8,
   "metadata": {
    "collapsed": true
   },
   "outputs": [],
   "source": [
    "test_datafile = \"/mnt/basket/processingData/data/testData.tsv\"\n",
    "word2vec_feature_list = \"/mnt/basket/processingData/volatile/imdb_data_features.npy\"\n",
    "forest_classifier = \"/mnt/basket/processingData/volatile/imbd_random_forest_classifier.joblib\"\n",
    "word2vec_vocabulary = \"/mnt/basket/processingData/volatile/imdb_data_vocab.json\"\n",
    "clean_test_reviews = []\n",
    "stopword_vocabular = \"english\""
   ]
  },
  {
   "cell_type": "markdown",
   "metadata": {},
   "source": [
    "## Load data"
   ]
  },
  {
   "cell_type": "code",
   "execution_count": 9,
   "metadata": {
    "collapsed": true
   },
   "outputs": [],
   "source": [
    "# Restore random_forest_classifier\n",
    "forest = joblib.load(forest_classifier)\n",
    "\n",
    "# Load the test dataset   \n",
    "test_dataset = pd.read_csv(test_datafile, header=0, delimiter=\"\\t\", quoting=3 )\n",
    "\n",
    "# Restore vocabulary\n",
    "with codecs.open(word2vec_vocabulary, 'r', encoding='utf-8') as f:\n",
    "    vocab = json.load(f)"
   ]
  },
  {
   "cell_type": "code",
   "execution_count": 10,
   "metadata": {
    "collapsed": true
   },
   "outputs": [],
   "source": [
    "\"\"\"\n",
    "  Restore vectorizer, wird eigentlich nicht benoetigt. \n",
    "  Ein neuer Vectorizer mit dem zuvor gespeicherten (selben) Vokabular reicht.\n",
    "  vectorizer = joblib.load(word2vec_vectorizer)\n",
    "\"\"\"\n",
    "\n",
    "# Restore vectorizer\n",
    "vectorizer = CountVectorizer(analyzer = \"word\",   \\\n",
    "                             vocabulary = vocab,   \\\n",
    "                             tokenizer = None,    \\\n",
    "                             preprocessor = None, \\\n",
    "                             stop_words = None,   \\\n",
    "                             max_features = 5000)"
   ]
  },
  {
   "cell_type": "markdown",
   "metadata": {},
   "source": [
    "## Prediction for test dataset"
   ]
  },
  {
   "cell_type": "markdown",
   "metadata": {},
   "source": [
    "#### Clean and extract reviews\n",
    "</p> The reviews for the test dataset needs to be cleaned.</p>"
   ]
  },
  {
   "cell_type": "code",
   "execution_count": 11,
   "metadata": {
    "collapsed": true
   },
   "outputs": [],
   "source": [
    "# Convert a raw review to a string of words\n",
    "def preprocess_review( raw_review ):\n",
    "    # 1. Remove HTML\n",
    "    #\n",
    "    non_html = BeautifulSoup(raw_review,\"html5lib\").get_text()\n",
    "    #\n",
    "    # 1. Convert to lower case\n",
    "    lowerCaseWords = non_html.lower()\n",
    "    #\n",
    "    # 2. Remove non-letters\n",
    "    letters_only = re.sub(\"[^a-z]\", \" \", lowerCaseWords)\n",
    "    #\n",
    "    # 3. Split into individual words\n",
    "    words = letters_only.split()\n",
    "    #\n",
    "    # 4. searching a set is faster than searching a list, so convert the stop words to a set\n",
    "    stops = set(stopwords.words(stopword_vocabular))\n",
    "    #\n",
    "    # 5. Remove stop words\n",
    "    meaningful_words = [w for w in words if not w in stops]\n",
    "    #\n",
    "    # 6. Join the words back into one string separated by space\n",
    "    return str(( \" \".join( meaningful_words ))) # str() converts from UNICODE to ASCII"
   ]
  },
  {
   "cell_type": "code",
   "execution_count": 12,
   "metadata": {
    "collapsed": false
   },
   "outputs": [
    {
     "name": "stdout",
     "output_type": "stream",
     "text": [
      "Review 1000 of 25001\n",
      "\n",
      "Review 2000 of 25001\n",
      "\n",
      "Review 3000 of 25001\n",
      "\n",
      "Review 4000 of 25001\n",
      "\n",
      "Review 5000 of 25001\n",
      "\n",
      "Review 6000 of 25001\n",
      "\n",
      "Review 7000 of 25001\n",
      "\n",
      "Review 8000 of 25001\n",
      "\n",
      "Review 9000 of 25001\n",
      "\n",
      "Review 10000 of 25001\n",
      "\n",
      "Review 11000 of 25001\n",
      "\n",
      "Review 12000 of 25001\n",
      "\n",
      "Review 13000 of 25001\n",
      "\n",
      "Review 14000 of 25001\n",
      "\n",
      "Review 15000 of 25001\n",
      "\n",
      "Review 16000 of 25001\n",
      "\n",
      "Review 17000 of 25001\n",
      "\n",
      "Review 18000 of 25001\n",
      "\n",
      "Review 19000 of 25001\n",
      "\n",
      "Review 20000 of 25001\n",
      "\n",
      "Review 21000 of 25001\n",
      "\n",
      "Review 22000 of 25001\n",
      "\n",
      "Review 23000 of 25001\n",
      "\n",
      "Review 24000 of 25001\n",
      "\n",
      "Review 25000 of 25001\n",
      "\n"
     ]
    }
   ],
   "source": [
    "# Loop over each review; create an index i that goes from 0 to the length of the movie review list\n",
    "num_reviews = test_dataset[\"review\"].size\n",
    "for i in xrange( 0, num_reviews ):\n",
    "    # Call our function for each one, and add the result to the list of clean reviews\n",
    "    clean_test_reviews.append( preprocess_review( test_dataset[\"review\"][i] ) )\n",
    "    # If the index is evenly divisible by 1000, print a message\n",
    "    if( (i+1)%1000 == 0 ):\n",
    "        print \"Review %d of %d\\n\" % ( i+1, num_reviews )"
   ]
  },
  {
   "cell_type": "markdown",
   "metadata": {},
   "source": [
    "#### Create vector representation\n",
    "<p>Extract token counts out of raw text documents using the vocabulary fitted with fit or the one provided to the constructor. </p>\n",
    "\n",
    "<p>  The variable \"vectorizer\" in the code above, used for initialisation the \"vocabulary\" created by the \"Bag of words and word2vec\" step in inotebook \"02_bag_of_words\". Now the individual words in the test dataset (different from the train dataset which was used to create the word2vec representations) are mapped to vector representations created in previous steps from the train dataset. </p>\n"
   ]
  },
  {
   "cell_type": "code",
   "execution_count": 13,
   "metadata": {
    "collapsed": false
   },
   "outputs": [
    {
     "name": "stdout",
     "output_type": "stream",
     "text": [
      "example test_dataset vector:  [0 0 0 ..., 0 0 0]\n"
     ]
    }
   ],
   "source": [
    "# Create bag of words\n",
    "test_data_features = vectorizer.transform(clean_test_reviews)\n",
    "# convert to a numpy array\n",
    "test_data_features = test_data_features.toarray()\n",
    "\n",
    "print \"example test_dataset vector: \" , test_data_features[0]"
   ]
  },
  {
   "cell_type": "markdown",
   "metadata": {},
   "source": [
    "#### Make sentiment label predictions"
   ]
  },
  {
   "cell_type": "code",
   "execution_count": 14,
   "metadata": {
    "collapsed": false
   },
   "outputs": [],
   "source": [
    "# Use the random forest to make sentiment label predictions\n",
    "computed_predictions = forest.predict(test_data_features)"
   ]
  },
  {
   "cell_type": "markdown",
   "metadata": {},
   "source": [
    "#### show distribution of sentiment predictions"
   ]
  },
  {
   "cell_type": "code",
   "execution_count": 20,
   "metadata": {
    "collapsed": false
   },
   "outputs": [
    {
     "name": "stdout",
     "output_type": "stream",
     "text": [
      "           id  sentiment\n",
      "0    \"1111_1\"          1\n",
      "1  \"12311_10\"          1\n",
      "2    \"8348_2\"          0\n",
      "3    \"5828_4\"          1\n",
      "4    \"7186_2\"          1\n",
      "5   \"12128_7\"          1\n",
      "6    \"2913_8\"          1\n",
      "7    \"4396_1\"          0\n",
      "8     \"395_2\"          1\n",
      "9   \"10616_1\"          0\n"
     ]
    }
   ],
   "source": [
    "# Copy the results to a pandas dataframe with an \"id\" column and a \"sentiment\" column\n",
    "output = pd.DataFrame( data={\"id\":test_dataset[\"id\"], \"sentiment\":computed_predictions} )\n",
    "print output[:10]"
   ]
  },
  {
   "cell_type": "code",
   "execution_count": 25,
   "metadata": {
    "collapsed": false
   },
   "outputs": [
    {
     "data": {
      "image/png": "[encoded data removed]",
      "text/plain": [
       "<matplotlib.figure.Figure at 0x7f9384a81710>"
      ]
     },
     "metadata": {},
     "output_type": "display_data"
    }
   ],
   "source": [
    "results = [0,0]\n",
    "\n",
    "# split in correct prediction and wrong predictions\n",
    "for item in output[\"sentiment\"]:\n",
    "    if(item ==  1 ):\n",
    "        results[0] = results[0]+1 # correct prediction\n",
    "    else:\n",
    "        results[1] = results[1]+1 # wrong prediction\n",
    "\n",
    "# plot\n",
    "_classes = ['possitive','negative']\n",
    "y_pos = np.arange(len(_classes))\n",
    "plt.bar(y_pos, results, align='center', alpha=0.5)\n",
    "plt.xticks(y_pos, _classes)\n",
    "plt.ylabel('Occurance')\n",
    "plt.xlabel('Classes')\n",
    "plt.title(' Sentiment prediction distribution')\n",
    "plt.show()"
   ]
  },
  {
   "cell_type": "markdown",
   "metadata": {},
   "source": [
    "## Prediction for new entered reviews"
   ]
  },
  {
   "cell_type": "markdown",
   "metadata": {},
   "source": [
    "#### Clean and extract reviews\n",
    "<p> Clean the manual review <p>"
   ]
  },
  {
   "cell_type": "code",
   "execution_count": 26,
   "metadata": {
    "collapsed": false
   },
   "outputs": [
    {
     "name": "stdout",
     "output_type": "stream",
     "text": [
      "Cleaning and parsing the test set movie reviews...\n",
      "\n"
     ]
    }
   ],
   "source": [
    "# Manual entered review\n",
    "entered_review = \"The movie was boring and stupid\"\n",
    "\n",
    "# Create an empty list and append the clean reviews one by one\n",
    "clean_test_reviews = []\n",
    "\n",
    "print \"Cleaning and parsing the test set movie reviews...\\n\"\n",
    "clean_review = preprocess_review( entered_review )\n",
    "clean_test_reviews.append( clean_review )"
   ]
  },
  {
   "cell_type": "markdown",
   "metadata": {},
   "source": [
    "#### Create vector representation"
   ]
  },
  {
   "cell_type": "code",
   "execution_count": 27,
   "metadata": {
    "collapsed": false
   },
   "outputs": [
    {
     "name": "stdout",
     "output_type": "stream",
     "text": [
      "example test_dataset vector:  [0 0 0 ..., 0 0 0]\n"
     ]
    }
   ],
   "source": [
    "# Create bag of words\n",
    "test_data_features = vectorizer.transform(clean_test_reviews)\n",
    "# convert to a numpy array\n",
    "test_data_features = test_data_features.toarray()\n",
    "\n",
    "print \"example test_dataset vector: \" , test_data_features[0]"
   ]
  },
  {
   "cell_type": "markdown",
   "metadata": {},
   "source": [
    "#### Make sentiment label predictions"
   ]
  },
  {
   "cell_type": "code",
   "execution_count": 28,
   "metadata": {
    "collapsed": true
   },
   "outputs": [],
   "source": [
    "# Use the random forest to make sentiment label predictions\n",
    "computed_predictions = forest.predict(test_data_features)"
   ]
  },
  {
   "cell_type": "markdown",
   "metadata": {},
   "source": [
    "#### Compare computed predictions against real sentiment"
   ]
  },
  {
   "cell_type": "code",
   "execution_count": 15,
   "metadata": {
    "collapsed": false
   },
   "outputs": [
    {
     "name": "stdout",
     "output_type": "stream",
     "text": [
      "[1] possitive : Die Verbindung ist zu langsam\n"
     ]
    }
   ],
   "source": [
    "if computed_predictions[0] == 0 :\n",
    "    print \"[%i] %s : %s\" % (computed_predictions[0] , \"nagative\" , entered_review )\n",
    "else :\n",
    "    print \"[%i] %s : %s\" % (computed_predictions[0] , \"possitive\" , entered_review) "
   ]
  }
 ],
 "metadata": {
  "kernelspec": {
   "display_name": "Python 2",
   "language": "python",
   "name": "python2"
  },
  "language_info": {
   "codemirror_mode": {
    "name": "ipython",
    "version": 2
   },
   "file_extension": ".py",
   "mimetype": "text/x-python",
   "name": "python",
   "nbconvert_exporter": "python",
   "pygments_lexer": "ipython2",
   "version": "2.7.11"
  }
 },
 "nbformat": 4,
 "nbformat_minor": 0
}
