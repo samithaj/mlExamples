{
 "cells": [
  {
   "cell_type": "markdown",
   "metadata": {},
   "source": [
    "# Sentiment analysis with Random forest \n",
    "<p> Part 1 / 4 , download and clean reviews from the internet </p>"
   ]
  },
  {
   "cell_type": "code",
   "execution_count": 22,
   "metadata": {
    "collapsed": true
   },
   "outputs": [],
   "source": [
    "%matplotlib inline\n",
    "\n",
    "# extraction from html document\n",
    "import pandas as pd\n",
    "from bs4 import BeautifulSoup\n",
    "import requests\n",
    "import nltk\n",
    "import re\n",
    "from nltk.corpus import stopwords # Import the stop word list\n",
    "import json\n",
    "import codecs\n",
    "import random\n",
    "import numpy as np\n",
    "import matplotlib.pyplot as plt"
   ]
  },
  {
   "cell_type": "markdown",
   "metadata": {},
   "source": [
    "### Hyperparams"
   ]
  },
  {
   "cell_type": "code",
   "execution_count": 23,
   "metadata": {
    "collapsed": true
   },
   "outputs": [],
   "source": [
    "stopword_vocabular = \"english\"\n",
    "load_dataset_training = \"/mnt/basket/processingData/data/labeledTrainData.tsv\"\n",
    "serialize_train_datafile = \"/mnt/basket/processingData/volatile/clean_train_reviews.json\""
   ]
  },
  {
   "cell_type": "markdown",
   "metadata": {},
   "source": [
    "### Load data set"
   ]
  },
  {
   "cell_type": "code",
   "execution_count": 24,
   "metadata": {
    "collapsed": false
   },
   "outputs": [
    {
     "name": "stdout",
     "output_type": "stream",
     "text": [
      "dataset size:  25000\n"
     ]
    }
   ],
   "source": [
    "train = pd.read_csv(load_dataset_training, header=0, delimiter=\"\\t\", quoting=3)\n",
    "# Get the number of reviews based on the dataframe column size\n",
    "num_reviews = train[\"review\"].size\n",
    "print \"dataset size: \", num_reviews\n",
    "# Initialize an empty list to hold the clean reviews\n",
    "clean_train_reviews = []"
   ]
  },
  {
   "cell_type": "markdown",
   "metadata": {},
   "source": [
    "### Data cleaning and text preprocessing for single customer review"
   ]
  },
  {
   "cell_type": "code",
   "execution_count": 25,
   "metadata": {
    "collapsed": false
   },
   "outputs": [],
   "source": [
    "# Convert a raw review to a string of words\n",
    "def preprocess_review( raw_review ):\n",
    "    # 1. Remove HTML\n",
    "    #\n",
    "    non_html = BeautifulSoup(raw_review,\"html5lib\").get_text()\n",
    "    #\n",
    "    # 1. Convert to lower case\n",
    "    lowerCaseWords = non_html.lower()\n",
    "    #\n",
    "    # 2. Remove non-letters\n",
    "    letters_only = re.sub(\"[^a-z]\", \" \", lowerCaseWords)\n",
    "    #\n",
    "    # 3. Split into individual words\n",
    "    words = letters_only.split()\n",
    "    #\n",
    "    # 4. searching a set is faster than searching a list, so convert the stop words to a set\n",
    "    stops = set(stopwords.words(stopword_vocabular))\n",
    "    #\n",
    "    # 5. Remove stop words\n",
    "    meaningful_words = [w for w in words if not w in stops]\n",
    "    #\n",
    "    # 6. Join the words back into one string separated by space\n",
    "    return str(( \" \".join( meaningful_words ))) # str() converts from UNICODE to ASCII"
   ]
  },
  {
   "cell_type": "code",
   "execution_count": 26,
   "metadata": {
    "collapsed": false
   },
   "outputs": [
    {
     "name": "stdout",
     "output_type": "stream",
     "text": [
      "Review 1000 of 25000\n",
      "\n",
      "Review 2000 of 25000\n",
      "\n",
      "Review 3000 of 25000\n",
      "\n",
      "Review 4000 of 25000\n",
      "\n",
      "Review 5000 of 25000\n",
      "\n",
      "Review 6000 of 25000\n",
      "\n",
      "Review 7000 of 25000\n",
      "\n",
      "Review 8000 of 25000\n",
      "\n",
      "Review 9000 of 25000\n",
      "\n",
      "Review 10000 of 25000\n",
      "\n",
      "Review 11000 of 25000\n",
      "\n",
      "Review 12000 of 25000\n",
      "\n",
      "Review 13000 of 25000\n",
      "\n",
      "Review 14000 of 25000\n",
      "\n",
      "Review 15000 of 25000\n",
      "\n",
      "Review 16000 of 25000\n",
      "\n",
      "Review 17000 of 25000\n",
      "\n",
      "Review 18000 of 25000\n",
      "\n",
      "Review 19000 of 25000\n",
      "\n",
      "Review 20000 of 25000\n",
      "\n",
      "Review 21000 of 25000\n",
      "\n",
      "Review 22000 of 25000\n",
      "\n",
      "Review 23000 of 25000\n",
      "\n",
      "Review 24000 of 25000\n",
      "\n",
      "Review 25000 of 25000\n",
      "\n"
     ]
    }
   ],
   "source": [
    "# Loop over each review; create an index i that goes from 0 to the length of the movie review list\n",
    "for i in xrange( 0, num_reviews ):\n",
    "    # Call our function for each one, and add the result to the list of clean reviews\n",
    "    clean_train_reviews.append( preprocess_review( train[\"review\"][i] ) )\n",
    "    # If the index is evenly divisible by 1000, print a message\n",
    "    if( (i+1)%1000 == 0 ):\n",
    "        print \"Review %d of %d\\n\" % ( i+1, num_reviews )"
   ]
  },
  {
   "cell_type": "markdown",
   "metadata": {},
   "source": [
    "### Serialize cleaned data"
   ]
  },
  {
   "cell_type": "code",
   "execution_count": 27,
   "metadata": {
    "collapsed": false
   },
   "outputs": [
    {
     "name": "stdout",
     "output_type": "stream",
     "text": [
      "Data saved to disk\n"
     ]
    }
   ],
   "source": [
    "with codecs.open(serialize_train_datafile,  'w', encoding='utf-8') as f:\n",
    "\tjson.dump(clean_train_reviews, f,  indent=3)\n",
    "\n",
    "print \"Data saved to disk\""
   ]
  },
  {
   "cell_type": "markdown",
   "metadata": {},
   "source": [
    "### Show distribution of data"
   ]
  },
  {
   "cell_type": "code",
   "execution_count": 28,
   "metadata": {
    "collapsed": false
   },
   "outputs": [
    {
     "data": {
      "image/png": "[encoded data removed]",
      "text/plain": [
       "<matplotlib.figure.Figure at 0x7fdf57b15750>"
      ]
     },
     "metadata": {},
     "output_type": "display_data"
    }
   ],
   "source": [
    "# to see how many positive and negative examples are there ( should be close numbers )\n",
    "i = 0\n",
    "results = [0,0]\n",
    "\n",
    "# split in positive reviews and negaive reviews\n",
    "for item in train[\"sentiment\"]:\n",
    "    if(item ==  1 ):\n",
    "        results[0] = results[0]+1 # positive review\n",
    "    else:\n",
    "        results[1] = results[1]+1 # negative review\n",
    "    i = i + 1\n",
    "\n",
    "# plot\n",
    "_classes = ['positive','negative']\n",
    "y_pos = np.arange(len(_classes))\n",
    "plt.bar(y_pos, results, align='center', alpha=0.5)\n",
    "plt.xticks(y_pos, _classes)\n",
    "plt.ylabel('Occurance')\n",
    "plt.xlabel('Review')\n",
    "plt.title(' Review positive/negative')\n",
    "plt.show()"
   ]
  },
  {
   "cell_type": "code",
   "execution_count": null,
   "metadata": {
    "collapsed": true
   },
   "outputs": [],
   "source": []
  }
 ],
 "metadata": {
  "kernelspec": {
   "display_name": "Python 2",
   "language": "python",
   "name": "python2"
  },
  "language_info": {
   "codemirror_mode": {
    "name": "ipython",
    "version": 2
   },
   "file_extension": ".py",
   "mimetype": "text/x-python",
   "name": "python",
   "nbconvert_exporter": "python",
   "pygments_lexer": "ipython2",
   "version": "2.7.11"
  }
 },
 "nbformat": 4,
 "nbformat_minor": 0
}
