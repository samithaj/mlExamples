{
 "cells": [
  {
   "cell_type": "markdown",
   "metadata": {
    "colab_type": "text",
    "id": "kR-4eNdK6lYS"
   },
   "source": [
    "# Deep Learning\n",
    "\n",
    "This notebook only handles the training part"
   ]
  },
  {
   "cell_type": "code",
   "execution_count": 1,
   "metadata": {
    "cellView": "both",
    "colab": {
     "autoexec": {
      "startup": false,
      "wait_interval": 0
     }
    },
    "colab_type": "code",
    "collapsed": false,
    "id": "JLpLa8Jt7Vu4"
   },
   "outputs": [],
   "source": [
    "%matplotlib inline\n",
    "\n",
    "import cPickle as pickle\n",
    "import numpy as np\n",
    "import os\n",
    "import tensorflow as tf\n",
    "import matplotlib.pyplot as plt\n",
    "import math"
   ]
  },
  {
   "cell_type": "markdown",
   "metadata": {},
   "source": [
    "### Hyperparameter"
   ]
  },
  {
   "cell_type": "code",
   "execution_count": 2,
   "metadata": {
    "collapsed": true
   },
   "outputs": [],
   "source": [
    "basket_static ='/mnt/basket/processingData/data/notMNIST'\n",
    "basket_volatile = \"/mnt/basket/processingData/volatile/notMNIST\"\n",
    "raw_data_pickle_filename = \"notMNIST.pickle\"\n",
    "training_results_pickle_filename = \"2_fullyconnected_separeated__training_results.pickle\""
   ]
  },
  {
   "cell_type": "markdown",
   "metadata": {
    "colab_type": "text",
    "id": "1HrCK6e17WzV"
   },
   "source": [
    "### Load the data we generated in `01_NormalizeImage.ipynb`"
   ]
  },
  {
   "cell_type": "code",
   "execution_count": 3,
   "metadata": {
    "cellView": "both",
    "colab": {
     "autoexec": {
      "startup": false,
      "wait_interval": 0
     },
     "output_extras": [
      {
       "item_id": 1
      }
     ]
    },
    "colab_type": "code",
    "collapsed": false,
    "executionInfo": {
     "elapsed": 19456,
     "status": "ok",
     "timestamp": 1449847956073,
     "user": {
      "color": "",
      "displayName": "",
      "isAnonymous": false,
      "isMe": true,
      "permissionId": "",
      "photoUrl": "",
      "sessionId": "0",
      "userId": ""
     },
     "user_tz": 480
    },
    "id": "y3-cj1bpmuxc",
    "outputId": "0ddb1607-1fc4-4ddb-de28-6c7ab7fb0c33"
   },
   "outputs": [
    {
     "name": "stdout",
     "output_type": "stream",
     "text": [
      "Training set (476202, 28, 28) (476202,)\n"
     ]
    }
   ],
   "source": [
    "pickle_file =  os.path.join(basket_volatile,raw_data_pickle_filename)\n",
    "\n",
    "with open(pickle_file, 'rb') as f:\n",
    "  save = pickle.load(f)\n",
    "  train_dataset = save['train_dataset']\n",
    "  train_labels = save['train_labels']\n",
    "  del save  # hint to help gc free up memory\n",
    "  print 'Training set', train_dataset.shape, train_labels.shape"
   ]
  },
  {
   "cell_type": "markdown",
   "metadata": {},
   "source": [
    "Reformat into a shape that's more adapted to the models we're going to train:\n",
    "- data as a flat matrix\n",
    "- labels as float 1-hot encodings"
   ]
  },
  {
   "cell_type": "code",
   "execution_count": 4,
   "metadata": {
    "cellView": "both",
    "colab": {
     "autoexec": {
      "startup": false,
      "wait_interval": 0
     },
     "output_extras": [
      {
       "item_id": 1
      }
     ]
    },
    "colab_type": "code",
    "collapsed": false,
    "executionInfo": {
     "elapsed": 19723,
     "status": "ok",
     "timestamp": 1449847956364,
     "user": {
      "color": "",
      "displayName": "",
      "isAnonymous": false,
      "isMe": true,
      "permissionId": "",
      "photoUrl": "",
      "sessionId": "0",
      "userId": ""
     },
     "user_tz": 480
    },
    "id": "IRSyYiIIGIzS",
    "outputId": "2ba0fc75-1487-4ace-a562-cf81cae82793"
   },
   "outputs": [
    {
     "name": "stdout",
     "output_type": "stream",
     "text": [
      "Training set (476202, 784) (476202, 10)\n"
     ]
    }
   ],
   "source": [
    "image_size = 28\n",
    "num_labels = 10\n",
    "\n",
    "def reformat(dataset, labels):\n",
    "  dataset = dataset.reshape((-1, image_size * image_size)).astype(np.float32)\n",
    "  # Map 0 to [1.0, 0.0, 0.0 ...], 1 to [0.0, 1.0, 0.0 ...]\n",
    "  labels = (np.arange(num_labels) == labels[:,None]).astype(np.float32)\n",
    "  return dataset, labels\n",
    "\n",
    "train_dataset, train_labels = reformat(train_dataset, train_labels)\n",
    "print 'Training set', train_dataset.shape, train_labels.shape"
   ]
  },
  {
   "cell_type": "markdown",
   "metadata": {},
   "source": [
    "### Utility function"
   ]
  },
  {
   "cell_type": "code",
   "execution_count": 5,
   "metadata": {
    "collapsed": true
   },
   "outputs": [],
   "source": [
    "def accuracy(predictions, labels):\n",
    "  return (100.0 * np.sum(np.argmax(predictions, 1) == np.argmax(labels, 1))\n",
    "          / predictions.shape[0])"
   ]
  },
  {
   "cell_type": "markdown",
   "metadata": {},
   "source": [
    "### Shuffle the training data"
   ]
  },
  {
   "cell_type": "code",
   "execution_count": 6,
   "metadata": {
    "collapsed": true
   },
   "outputs": [],
   "source": [
    "def randomize(dataset, labels):\n",
    "  permutation = np.random.permutation(labels.shape[0])\n",
    "  shuffled_dataset = dataset[permutation,:]\n",
    "  shuffled_labels = labels[permutation]\n",
    "  return shuffled_dataset, shuffled_labels"
   ]
  },
  {
   "cell_type": "markdown",
   "metadata": {},
   "source": [
    "## S.D.G. with one hidden layer"
   ]
  },
  {
   "cell_type": "markdown",
   "metadata": {},
   "source": [
    "### Training"
   ]
  },
  {
   "cell_type": "markdown",
   "metadata": {},
   "source": [
    "##### Define the graph"
   ]
  },
  {
   "cell_type": "code",
   "execution_count": 7,
   "metadata": {
    "collapsed": false
   },
   "outputs": [
    {
     "name": "stdout",
     "output_type": "stream",
     "text": [
      "TensorShape([Dimension(128), Dimension(1024)])\n"
     ]
    }
   ],
   "source": [
    "batch_size = 128\n",
    "#old 0.5\n",
    "learning_rate = 0.5\n",
    "graph = tf.Graph()\n",
    "\n",
    "with graph.as_default():\n",
    "\n",
    "  #Input data. For the training data, we use a placeholder that will be fed at run time with a training minibatch.\n",
    "  tf_train_dataset = tf.placeholder(tf.float32, shape=(batch_size, image_size * image_size)) #(128,784)\n",
    "  tf_train_labels = tf.placeholder(tf.float32, shape=(batch_size, num_labels)) #(128,10)\n",
    "    \n",
    "  #Define HyperParameters (NN structuring constants)\n",
    "  inputLayerSize = image_size * image_size # inputLayerSize is always equal to width of X-ndarray (200000,784)\n",
    "  hiddenLayerSize = 1024\n",
    "  outputLayerSize = 10\n",
    "    \n",
    "  # Variables:\n",
    "  ## hidden layer\n",
    "  weights_hidden_1 = tf.Variable(tf.truncated_normal([inputLayerSize, hiddenLayerSize])) #(784,1024)\n",
    "  biases_hidden_1 = tf.Variable(tf.zeros([hiddenLayerSize])) #(1024)\n",
    "  ## linear layer\n",
    "  weights_linear = tf.Variable(tf.truncated_normal([hiddenLayerSize, outputLayerSize])) #(1024,10)\n",
    "  biases_linear = tf.Variable(tf.zeros([outputLayerSize])) #(10)\n",
    "\n",
    "  # Hidden layer (RELU)\n",
    "  train_hiddenLayer = tf.nn.relu(tf.matmul(tf_train_dataset, weights_hidden_1) + biases_hidden_1) #(128,1024)\n",
    "\n",
    "  # linear  layer\n",
    "  ## a) logits  (tune: weights_linear,biases_linear)\n",
    "  train_logits = tf.matmul(train_hiddenLayer, weights_linear) + biases_linear  #(128,10) => (batch_size, num_labels)\n",
    "  ## b) loss\n",
    "  train_loss = tf.reduce_mean(tf.nn.softmax_cross_entropy_with_logits(train_logits, tf_train_labels))#([])\n",
    "  # c) Optimizer ( Creates an optimizer and applies the gradients to all trainable variables. )\n",
    "  optimizer = tf.train.GradientDescentOptimizer(learning_rate).minimize(train_loss)\n",
    " \n",
    "  # Predictions for the training, validation, and test data.\n",
    "  train_prediction = tf.nn.softmax(train_logits)\n",
    "\n",
    "  print tf.Tensor.get_shape(train_hiddenLayer) #static shape"
   ]
  },
  {
   "cell_type": "markdown",
   "metadata": {},
   "source": [
    "##### Run the graph"
   ]
  },
  {
   "cell_type": "markdown",
   "metadata": {},
   "source": [
    "http://neuralnetworksanddeeplearning.com/chap1.html\n",
    "In each epoch, it starts by randomly shuffling the training data and then partition it into mini-batches of the appropriate size. This is an easy way of sampling randomly from the training data. <br>\n",
    "Then for each mini_batch we apply a single step of gradient descent, which updates the network weights and biases."
   ]
  },
  {
   "cell_type": "code",
   "execution_count": 8,
   "metadata": {
    "collapsed": false
   },
   "outputs": [
    {
     "name": "stdout",
     "output_type": "stream",
     "text": [
      "size training data :  476202\n",
      "Initialized, start training\n",
      "Epoch  1 started\n",
      "   Training loss summary for step  0  :  513.386\n",
      "   Training loss summary for step  500  :  12.0766\n",
      "   Training loss summary for step  1000  :  6.20933\n",
      "   Training loss summary for step  1500  :  4.93562\n",
      "   Training loss summary for step  2000  :  9.2379\n",
      "   Training loss summary for step  2500  :  4.70921\n",
      "   Training loss summary for step  3000  :  4.09972\n",
      "   Training loss summary for step  3500  :  3.38553\n",
      "Training accuracy: 80.5%\n",
      "Epoch  2 started\n",
      "   Training loss summary for step  0  :  5.45085\n",
      "   Training loss summary for step  500  :  3.83473\n",
      "   Training loss summary for step  1000  :  2.86659\n",
      "   Training loss summary for step  1500  :  3.1793\n",
      "   Training loss summary for step  2000  :  0.735756\n",
      "   Training loss summary for step  2500  :  5.13519\n",
      "   Training loss summary for step  3000  :  3.34327\n",
      "   Training loss summary for step  3500  :  1.84174\n",
      "Training accuracy: 83.6%\n",
      "Epoch  3 started\n",
      "   Training loss summary for step  0  :  6.75237\n",
      "   Training loss summary for step  500  :  2.85405\n",
      "   Training loss summary for step  1000  :  4.21179\n",
      "   Training loss summary for step  1500  :  2.16203\n",
      "   Training loss summary for step  2000  :  1.19725\n",
      "   Training loss summary for step  2500  :  3.46198\n",
      "   Training loss summary for step  3000  :  1.91695\n",
      "   Training loss summary for step  3500  :  1.80817\n",
      "Training accuracy: 84.4%\n",
      "Epoch  4 started\n",
      "   Training loss summary for step  0  :  1.59786\n",
      "   Training loss summary for step  500  :  1.5173\n",
      "   Training loss summary for step  1000  :  2.78523\n",
      "   Training loss summary for step  1500  :  0.961066\n",
      "   Training loss summary for step  2000  :  2.29367\n",
      "   Training loss summary for step  2500  :  0.991212\n",
      "   Training loss summary for step  3000  :  1.93871\n",
      "   Training loss summary for step  3500  :  1.56425\n",
      "Training accuracy: 93.8%\n",
      "Epoch  5 started\n",
      "   Training loss summary for step  0  :  1.44619\n",
      "   Training loss summary for step  500  :  1.00332\n",
      "   Training loss summary for step  1000  :  1.6228\n",
      "   Training loss summary for step  1500  :  4.28326\n",
      "   Training loss summary for step  2000  :  1.97419\n",
      "   Training loss summary for step  2500  :  1.1604\n",
      "   Training loss summary for step  3000  :  0.999738\n",
      "   Training loss summary for step  3500  :  0.555337\n",
      "Training accuracy: 82.8%\n",
      "Epoch  6 started\n",
      "   Training loss summary for step  0  :  0.538015\n",
      "   Training loss summary for step  500  :  1.21954\n",
      "   Training loss summary for step  1000  :  0.97655\n",
      "   Training loss summary for step  1500  :  1.17614\n",
      "   Training loss summary for step  2000  :  1.66392\n",
      "   Training loss summary for step  2500  :  1.39757\n",
      "   Training loss summary for step  3000  :  1.28681\n",
      "   Training loss summary for step  3500  :  1.28471\n",
      "Training accuracy: 88.3%\n",
      "Epoch  7 started\n",
      "   Training loss summary for step  0  :  1.82731\n",
      "   Training loss summary for step  500  :  0.593355\n",
      "   Training loss summary for step  1000  :  1.02358\n",
      "   Training loss summary for step  1500  :  1.07813\n",
      "   Training loss summary for step  2000  :  2.17314\n",
      "   Training loss summary for step  2500  :  0.796641\n",
      "   Training loss summary for step  3000  :  1.40303\n",
      "   Training loss summary for step  3500  :  0.689416\n",
      "Training accuracy: 85.9%\n",
      "Epoch  8 started\n",
      "   Training loss summary for step  0  :  0.584424\n",
      "   Training loss summary for step  500  :  0.847883\n",
      "   Training loss summary for step  1000  :  0.749339\n",
      "   Training loss summary for step  1500  :  1.0272\n",
      "   Training loss summary for step  2000  :  0.862643\n",
      "   Training loss summary for step  2500  :  1.07394\n",
      "   Training loss summary for step  3000  :  0.451843\n",
      "   Training loss summary for step  3500  :  0.435376\n",
      "Training accuracy: 88.3%\n"
     ]
    },
    {
     "data": {
      "text/plain": [
       "<matplotlib.figure.Figure at 0x7f2308d3cd50>"
      ]
     },
     "metadata": {},
     "output_type": "display_data"
    }
   ],
   "source": [
    "print \"size training data : \" , train_labels.shape[0]\n",
    "\n",
    "# The entire training dataset going through the entire network once. Related to overfitting.\n",
    "epoch = 3\n",
    "\n",
    "plt.clf()\n",
    "\n",
    "with tf.Session(graph=graph) as session:\n",
    "  tf.initialize_all_variables().run()\n",
    "  print \"Initialized, start training\"\n",
    "  for epoch in xrange(0,epoch):\n",
    "    print \"Epoch \", epoch + 1, \"started\"\n",
    "    # Randomize training dataset\n",
    "    train_dataset, train_labels = randomize(train_dataset, train_labels)\n",
    "    # calculate number of iterations needed to go through the full training data once\n",
    "    num_steps = train_labels.shape[0] / batch_size\n",
    "    for step in xrange(num_steps):\n",
    "        offset = (step * batch_size) %  (train_labels.shape[0] - batch_size)\n",
    "        batch_data = train_dataset[offset:(offset + batch_size), :]\n",
    "        batch_labels = train_labels[offset:(offset + batch_size), :]\n",
    "\n",
    "        feed_dict = {tf_train_dataset : batch_data, tf_train_labels : batch_labels}\n",
    "        _, loss, predictions = session.run([optimizer, train_loss, train_prediction], feed_dict=feed_dict)\n",
    "\n",
    "        # Only print a summary, else the output is to long\n",
    "        if (offset % (batch_size*500) == 0):\n",
    "            print \"   Training loss summary for step \" , step, \" : \", loss\n",
    "    print \"Training accuracy: %.1f%%\" % accuracy(predictions, batch_labels)\n",
    "  w1, b1, w2, b2 = session.run([weights_hidden_1, biases_hidden_1, weights_linear, biases_linear])"
   ]
  },
  {
   "cell_type": "markdown",
   "metadata": {},
   "source": [
    "#### Plot training loss"
   ]
  },
  {
   "cell_type": "code",
   "execution_count": 9,
   "metadata": {
    "collapsed": false
   },
   "outputs": [],
   "source": [
    "#batch_sizes = np.arange(0, 1280, 128)\n",
    "#print training_summary\n",
    "#plt.bar(training_summary[:,1], training_summary, align='center', alpha=0.5)\n",
    "#plt.show()\n",
    "#del classBalance"
   ]
  },
  {
   "cell_type": "markdown",
   "metadata": {},
   "source": [
    "#### Serialize training weights on disk"
   ]
  },
  {
   "cell_type": "code",
   "execution_count": 10,
   "metadata": {
    "collapsed": false
   },
   "outputs": [],
   "source": [
    "pickle_file = os.path.join(basket_volatile,training_results_pickle_filename)\n",
    "\n",
    "try:\n",
    "  f = open(pickle_file, 'wb')\n",
    "  save = {\n",
    "    'weights_hidden_1': w1,\n",
    "    'biases_hidden_1': b1,\n",
    "    'weights_linear': w2,\n",
    "    'biases_linear': b2,\n",
    "    }\n",
    "  pickle.dump(save, f, pickle.HIGHEST_PROTOCOL)\n",
    "  f.close()\n",
    "except Exception as e:\n",
    "  print 'Unable to save data to', pickle_file, ':', e\n",
    "  raise"
   ]
  },
  {
   "cell_type": "code",
   "execution_count": null,
   "metadata": {
    "collapsed": true
   },
   "outputs": [],
   "source": []
  }
 ],
 "metadata": {
  "colabVersion": "0.3.2",
  "colab_default_view": {},
  "colab_views": {},
  "kernelspec": {
   "display_name": "Python 2",
   "language": "python",
   "name": "python2"
  },
  "language_info": {
   "codemirror_mode": {
    "name": "ipython",
    "version": 2
   },
   "file_extension": ".py",
   "mimetype": "text/x-python",
   "name": "python",
   "nbconvert_exporter": "python",
   "pygments_lexer": "ipython2",
   "version": "2.7.11"
  }
 },
 "nbformat": 4,
 "nbformat_minor": 0
}
