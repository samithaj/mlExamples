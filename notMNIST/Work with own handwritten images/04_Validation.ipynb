{
 "cells": [
  {
   "cell_type": "markdown",
   "metadata": {
    "colab_type": "text",
    "id": "kR-4eNdK6lYS"
   },
   "source": [
    "# Deep Learning\n",
    "\n",
    "This notebook is to handele the validation part only"
   ]
  },
  {
   "cell_type": "code",
   "execution_count": 1,
   "metadata": {
    "cellView": "both",
    "colab": {
     "autoexec": {
      "startup": false,
      "wait_interval": 0
     }
    },
    "colab_type": "code",
    "collapsed": false,
    "id": "JLpLa8Jt7Vu4"
   },
   "outputs": [],
   "source": [
    "import cPickle as pickle\n",
    "import numpy as np\n",
    "import os\n",
    "import tensorflow as tf\n",
    "import matplotlib.pyplot as plt\n",
    "import math"
   ]
  },
  {
   "cell_type": "markdown",
   "metadata": {},
   "source": [
    "### Hyperparameter"
   ]
  },
  {
   "cell_type": "code",
   "execution_count": 2,
   "metadata": {
    "collapsed": true
   },
   "outputs": [],
   "source": [
    "basket_static ='/mnt/basket/processingData/data/notMNIST'\n",
    "basket_volatile = \"/mnt/basket/processingData/volatile/notMNIST\"\n",
    "raw_data_pickle_filename = \"notMNIST.pickle\"\n",
    "training_results_pickle_filename = \"2_fullyconnected_separeated__training_results.pickle\""
   ]
  },
  {
   "cell_type": "markdown",
   "metadata": {
    "colab_type": "text",
    "id": "1HrCK6e17WzV"
   },
   "source": [
    "## Load the data"
   ]
  },
  {
   "cell_type": "code",
   "execution_count": 3,
   "metadata": {
    "cellView": "both",
    "colab": {
     "autoexec": {
      "startup": false,
      "wait_interval": 0
     },
     "output_extras": [
      {
       "item_id": 1
      }
     ]
    },
    "colab_type": "code",
    "collapsed": false,
    "executionInfo": {
     "elapsed": 19456,
     "status": "ok",
     "timestamp": 1449847956073,
     "user": {
      "color": "",
      "displayName": "",
      "isAnonymous": false,
      "isMe": true,
      "permissionId": "",
      "photoUrl": "",
      "sessionId": "0",
      "userId": ""
     },
     "user_tz": 480
    },
    "id": "y3-cj1bpmuxc",
    "outputId": "0ddb1607-1fc4-4ddb-de28-6c7ab7fb0c33"
   },
   "outputs": [
    {
     "name": "stdout",
     "output_type": "stream",
     "text": [
      "Validation set (10000, 28, 28) (10000,)\n"
     ]
    }
   ],
   "source": [
    "# Data from notebook 01_NormalizeImage.ipynb\n",
    "pickle_file =  os.path.join(basket_volatile, raw_data_pickle_filename)\n",
    "\n",
    "with open(pickle_file, 'rb') as f:\n",
    "  read = pickle.load(f)\n",
    "  valid_dataset = read['valid_dataset']\n",
    "  valid_labels = read['valid_labels']\n",
    "  del read  # hint to help gc free up memory\n",
    "  print 'Validation set', valid_dataset.shape, valid_labels.shape\n",
    "\n",
    "\n",
    "# Data from notebook 02_Training.ipynb\n",
    "pickle_file = os.path.join(basket_volatile,training_results_pickle_filename)\n",
    "\n",
    "with open(pickle_file, 'rb') as f:\n",
    "  read = pickle.load(f)\n",
    "  train_weights_hidden = read['weights_hidden_1']\n",
    "  train_biases_hidden = read['biases_hidden_1']\n",
    "  train_weights_linear = read['weights_linear']\n",
    "  train_biases_linear = read['biases_linear']\n",
    "  del read  # hint to help gc free up memory"
   ]
  },
  {
   "cell_type": "markdown",
   "metadata": {
    "colab_type": "text",
    "id": "L7aHrm6nGDMB"
   },
   "source": [
    "Reformat into a shape that's more adapted to the models we're going to train:\n",
    "- data as a flat matrix\n",
    "- labels as float 1-hot encodings"
   ]
  },
  {
   "cell_type": "code",
   "execution_count": 4,
   "metadata": {
    "cellView": "both",
    "colab": {
     "autoexec": {
      "startup": false,
      "wait_interval": 0
     },
     "output_extras": [
      {
       "item_id": 1
      }
     ]
    },
    "colab_type": "code",
    "collapsed": false,
    "executionInfo": {
     "elapsed": 19723,
     "status": "ok",
     "timestamp": 1449847956364,
     "user": {
      "color": "",
      "displayName": "",
      "isAnonymous": false,
      "isMe": true,
      "permissionId": "",
      "photoUrl": "",
      "sessionId": "0",
      "userId": ""
     },
     "user_tz": 480
    },
    "id": "IRSyYiIIGIzS",
    "outputId": "2ba0fc75-1487-4ace-a562-cf81cae82793"
   },
   "outputs": [
    {
     "name": "stdout",
     "output_type": "stream",
     "text": [
      "Valid dataset (10000, 784) (10000, 10)\n"
     ]
    }
   ],
   "source": [
    "image_size = 28\n",
    "num_labels = 10\n",
    "\n",
    "def reformat(dataset, labels):\n",
    "  dataset = dataset.reshape((-1, image_size * image_size)).astype(np.float32)\n",
    "  # Map 0 to [1.0, 0.0, 0.0 ...], 1 to [0.0, 1.0, 0.0 ...]\n",
    "  labels = (np.arange(num_labels) == labels[:,None]).astype(np.float32)\n",
    "  return dataset, labels\n",
    "valid_dataset, valid_labels = reformat(valid_dataset, valid_labels)\n",
    "print 'Valid dataset', valid_dataset.shape, valid_labels.shape"
   ]
  },
  {
   "cell_type": "markdown",
   "metadata": {},
   "source": [
    "### Utility function"
   ]
  },
  {
   "cell_type": "code",
   "execution_count": 5,
   "metadata": {
    "collapsed": true
   },
   "outputs": [],
   "source": [
    "def accuracy(predictions, labels):\n",
    "  return (100.0 * np.sum(np.argmax(predictions, 1) == np.argmax(labels, 1))\n",
    "          / predictions.shape[0])"
   ]
  },
  {
   "cell_type": "markdown",
   "metadata": {},
   "source": [
    "## S.D.G. with one hidden layer"
   ]
  },
  {
   "cell_type": "markdown",
   "metadata": {},
   "source": [
    "### Testing"
   ]
  },
  {
   "cell_type": "markdown",
   "metadata": {},
   "source": [
    "##### Define the graph"
   ]
  },
  {
   "cell_type": "code",
   "execution_count": 6,
   "metadata": {
    "collapsed": false
   },
   "outputs": [],
   "source": [
    "batch_size = 128\n",
    "learning_rate = 0.5\n",
    "graph = tf.Graph()\n",
    "\n",
    "with graph.as_default():\n",
    "    \n",
    "  #Input data. For the training data.\n",
    "  tf_valid_dataset = tf.constant(valid_dataset) #(18724,784)\n",
    "\n",
    "    \n",
    "  #Define HyperParameters (NN structuring constants)\n",
    "  inputLayerSize = image_size * image_size # inputLayerSize is always equal to width of X-ndarray (200000,784)\n",
    "  hiddenLayerSize = 1024\n",
    "  outputLayerSize = 10\n",
    "    \n",
    "  # Variables:\n",
    "  weights_hidden_1 = tf.constant(train_weights_hidden) #(784,1024)\n",
    "  biases_hidden_1 = tf.constant(train_biases_hidden) #(1024)\n",
    "  ## linear layer\n",
    "  weights_linear = tf.constant(train_weights_linear) #(1024,10)\n",
    "  biases_linear = tf.constant(train_biases_linear) #(10)\n",
    "\n",
    "\n",
    "  # Hidden layer (RELU)\n",
    "  valid_hiddenLayer = tf.nn.relu(tf.matmul(tf_valid_dataset, weights_hidden_1) + biases_hidden_1) #(128,1024)\n",
    "\n",
    "  # linear layer\n",
    "  valid_logits = tf.matmul(valid_hiddenLayer, weights_linear) + biases_linear  # tune w2,h2\n",
    "\n",
    " \n",
    "  # Predictions for the training, validation, and test data.\n",
    "  valid_prediction = tf.nn.softmax(valid_logits)"
   ]
  },
  {
   "cell_type": "markdown",
   "metadata": {},
   "source": [
    "##### Run the graph"
   ]
  },
  {
   "cell_type": "code",
   "execution_count": 7,
   "metadata": {
    "collapsed": false
   },
   "outputs": [
    {
     "name": "stdout",
     "output_type": "stream",
     "text": [
      "Validation accuracy: 82.2%\n"
     ]
    }
   ],
   "source": [
    "num_steps = 3001\n",
    "plt.clf()\n",
    "\n",
    "with tf.Session(graph=graph) as session:\n",
    "  tf.initialize_all_variables().run()\n",
    "  print \"Validation accuracy: %.1f%%\" % accuracy(valid_prediction.eval(), valid_labels)"
   ]
  }
 ],
 "metadata": {
  "colabVersion": "0.3.2",
  "colab_default_view": {},
  "colab_views": {},
  "kernelspec": {
   "display_name": "Python 2",
   "language": "python",
   "name": "python2"
  },
  "language_info": {
   "codemirror_mode": {
    "name": "ipython",
    "version": 2
   },
   "file_extension": ".py",
   "mimetype": "text/x-python",
   "name": "python",
   "nbconvert_exporter": "python",
   "pygments_lexer": "ipython2",
   "version": "2.7.11"
  }
 },
 "nbformat": 4,
 "nbformat_minor": 0
}
